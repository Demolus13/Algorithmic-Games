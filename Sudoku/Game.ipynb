{
 "cells": [
  {
   "cell_type": "markdown",
   "metadata": {},
   "source": [
    "## TicTacToe"
   ]
  },
  {
   "cell_type": "markdown",
   "metadata": {},
   "source": [
    "### Imports and Utils"
   ]
  },
  {
   "cell_type": "code",
   "execution_count": 9,
   "metadata": {},
   "outputs": [],
   "source": [
    "\"\"\"\n",
    "Importing the necessary libraries\n",
    "\"\"\"\n",
    "import numpy as np\n",
    "\n",
    "# Remove all the warnings\n",
    "import warnings\n",
    "warnings.filterwarnings('ignore')"
   ]
  },
  {
   "cell_type": "code",
   "execution_count": 28,
   "metadata": {},
   "outputs": [],
   "source": [
    "\"\"\"\n",
    "Utilities for the game\n",
    "\"\"\"\n",
    "\n",
    "n_board = 9\n",
    "\n",
    "def print_board(board: np.ndarray):\n",
    "    \"\"\"\n",
    "    board: np.ndarray: Sudoku board as an array\n",
    "    \"\"\"\n",
    "\n",
    "    for i in range(len(board)):\n",
    "        if i % 3 == 0 and i != 0:\n",
    "            print(\"- - - - - - - - - - - - - - - -\")\n",
    "\n",
    "        for j in range(len(board[0])):\n",
    "            if j % 3 == 0 and j != 0:\n",
    "                print(\"|  \", end=\"\")\n",
    "\n",
    "            if j == 8:\n",
    "                print(str(board[i, j] if board[i, j] != 0 else \".\"))\n",
    "            else:\n",
    "                print(str(board[i, j] if board[i, j] != 0 else \".\") + \"  \", end=\"\")\n",
    "\n",
    "def is_full(board: np.ndarray) -> np.ndarray:\n",
    "    \"\"\"\n",
    "    board: np.ndarray: Sudoku board as an array\n",
    "\n",
    "    Return: np.ndarray: is_full, row, and column\n",
    "    \"\"\"\n",
    "\n",
    "    for row in range(n_board):\n",
    "        for col in range(n_board):\n",
    "            if board[row, col] == 0:\n",
    "                return [0, row, col]\n",
    "    return [1, -1, -1]\n",
    "\n",
    "def is_valid(board: np.ndarray) -> bool:\n",
    "    \"\"\"\n",
    "    board: np.ndarray: Sudoku board as an array\n",
    "\n",
    "    Return: bool: if the board is a valid sudoku board\n",
    "    \"\"\"\n",
    "\n",
    "    # check for horizontal\n",
    "    for row in range(n_board):\n",
    "        counts = np.bincount(board[row, :])\n",
    "        if any(count > 1 for count in counts[1:]):\n",
    "            return False\n",
    "        \n",
    "    # check for vertical\n",
    "    for col in range(n_board):\n",
    "        counts = np.bincount(board[:, col])\n",
    "        if any(count > 1 for count in counts[1:]):\n",
    "            return False\n",
    "        \n",
    "    # check for boxes\n",
    "    for row in range(0, n_board, 3):\n",
    "        for col in range(0, n_board, 3):\n",
    "            box = board[row:row+3, col:col+3].flatten()\n",
    "            counts = np.bincount(box)\n",
    "            if any(count > 1 for count in counts[1:]):\n",
    "                return False\n",
    "    \n",
    "    return True"
   ]
  },
  {
   "cell_type": "markdown",
   "metadata": {},
   "source": [
    "### Creating Game Algorithm"
   ]
  },
  {
   "cell_type": "code",
   "execution_count": 11,
   "metadata": {},
   "outputs": [],
   "source": [
    "class Sudoku():\n",
    "    \"\"\"\n",
    "    An Sudoku Solver\n",
    "    \"\"\"\n",
    "\n",
    "    def __init__(self, board: np.ndarray):\n",
    "        \"\"\"\n",
    "        board: np.ndarray: Sudoku board as an array\n",
    "        \"\"\"\n",
    "\n",
    "        self.board = board\n",
    "\n",
    "    def solve(self) -> bool:\n",
    "        \"\"\"\n",
    "        Return: bool: if the board is solvable\n",
    "        \"\"\"\n",
    "\n",
    "        # solved sudoku board\n",
    "        find = is_full(self.board)\n",
    "        if find[0]:\n",
    "            return True\n",
    "        else:\n",
    "            row, col = find[1:]\n",
    "\n",
    "        for i in range(1, 10):\n",
    "            self.board[row, col] = i\n",
    "            if is_valid(self.board):\n",
    "                \n",
    "                if self.solve():\n",
    "                    return True\n",
    "                \n",
    "            self.board[row, col] = 0\n",
    "\n",
    "        return False\n"
   ]
  },
  {
   "cell_type": "markdown",
   "metadata": {},
   "source": [
    "### Defining Game System"
   ]
  },
  {
   "cell_type": "code",
   "execution_count": 31,
   "metadata": {},
   "outputs": [
    {
     "name": "stdout",
     "output_type": "stream",
     "text": [
      "Given Board:\n",
      ".  7  .  |  1  .  .  |  6  3  .\n",
      ".  .  .  |  7  .  .  |  .  2  8\n",
      "3  .  .  |  8  6  5  |  .  9  .\n",
      "- - - - - - - - - - - - - - - -\n",
      "4  .  .  |  .  .  2  |  .  6  .\n",
      ".  2  9  |  .  .  .  |  8  4  .\n",
      ".  1  .  |  4  .  .  |  .  .  7\n",
      "- - - - - - - - - - - - - - - -\n",
      ".  3  .  |  5  1  7  |  .  .  6\n",
      "1  9  .  |  .  .  4  |  .  .  .\n",
      ".  8  7  |  .  .  6  |  .  1  .\n",
      "\n",
      "------------------------------------------------------------\n",
      "\n",
      "Solved Board:\n",
      "8  7  5  |  1  2  9  |  6  3  4\n",
      "9  6  1  |  7  4  3  |  5  2  8\n",
      "3  4  2  |  8  6  5  |  7  9  1\n",
      "- - - - - - - - - - - - - - - -\n",
      "4  5  8  |  3  7  2  |  1  6  9\n",
      "7  2  9  |  6  5  1  |  8  4  3\n",
      "6  1  3  |  4  9  8  |  2  5  7\n",
      "- - - - - - - - - - - - - - - -\n",
      "2  3  4  |  5  1  7  |  9  8  6\n",
      "1  9  6  |  2  8  4  |  3  7  5\n",
      "5  8  7  |  9  3  6  |  4  1  2\n"
     ]
    }
   ],
   "source": [
    "board = np.array([\n",
    "    [0, 7, 0, 1, 0, 0, 6, 3, 0],\n",
    "    [0, 0, 0, 7, 0, 0, 0, 2, 8],\n",
    "    [3, 0, 0, 8, 6, 5, 0, 9, 0],\n",
    "    [4, 0, 0, 0, 0, 2, 0, 6, 0],\n",
    "    [0, 2, 9, 0, 0, 0, 8, 4, 0],\n",
    "    [0, 1, 0, 4, 0, 0, 0, 0, 7],\n",
    "    [0, 3, 0, 5, 1, 7, 0, 0, 6],\n",
    "    [1, 9, 0, 0, 0, 4, 0, 0, 0],\n",
    "    [0, 8, 7, 0, 0, 6, 0, 1, 0],\n",
    "])\n",
    "solver = Sudoku(board)\n",
    "print(\"Given Board:\")\n",
    "print_board(board)\n",
    "print(\"\\n------------------------------------------------------------\\n\")\n",
    "\n",
    "if_solved = solver.solve()\n",
    "if if_solved:\n",
    "    print(\"Solved Board:\")\n",
    "    print_board(solver.board)\n",
    "else:\n",
    "    print(\"\\nBoard is not solvable\")\n",
    "    print_board(board)\n",
    "    "
   ]
  },
  {
   "cell_type": "code",
   "execution_count": null,
   "metadata": {},
   "outputs": [],
   "source": []
  }
 ],
 "metadata": {
  "kernelspec": {
   "display_name": "Python 3",
   "language": "python",
   "name": "python3"
  },
  "language_info": {
   "codemirror_mode": {
    "name": "ipython",
    "version": 3
   },
   "file_extension": ".py",
   "mimetype": "text/x-python",
   "name": "python",
   "nbconvert_exporter": "python",
   "pygments_lexer": "ipython3",
   "version": "3.11.3"
  }
 },
 "nbformat": 4,
 "nbformat_minor": 2
}
